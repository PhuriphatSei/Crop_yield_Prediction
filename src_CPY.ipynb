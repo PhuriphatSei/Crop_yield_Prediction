{
  "cells": [
    {
      "cell_type": "markdown",
      "metadata": {
        "id": "view-in-github",
        "colab_type": "text"
      },
      "source": [
        "<a href=\"https://colab.research.google.com/github/PhuriphatSei/Crop_yield_Prediction/blob/main/src_CPY.ipynb\" target=\"_parent\"><img src=\"https://colab.research.google.com/assets/colab-badge.svg\" alt=\"Open In Colab\"/></a>"
      ]
    },
    {
      "cell_type": "code",
      "source": [
        "#!pip install pyspark"
      ],
      "metadata": {
        "id": "ujI2DfLT6Riz",
        "colab": {
          "base_uri": "https://localhost:8080/"
        },
        "outputId": "0ae9b9df-25a0-4161-de93-7f9ec957ee0c"
      },
      "execution_count": null,
      "outputs": [
        {
          "output_type": "stream",
          "name": "stdout",
          "text": [
            "Collecting pyspark\n",
            "  Downloading pyspark-3.5.1.tar.gz (317.0 MB)\n",
            "\u001b[2K     \u001b[90m━━━━━━━━━━━━━━━━━━━━━━━━━━━━━━━━━━━━━━━━\u001b[0m \u001b[32m317.0/317.0 MB\u001b[0m \u001b[31m3.0 MB/s\u001b[0m eta \u001b[36m0:00:00\u001b[0m\n",
            "\u001b[?25h  Preparing metadata (setup.py) ... \u001b[?25l\u001b[?25hdone\n",
            "Requirement already satisfied: py4j==0.10.9.7 in /usr/local/lib/python3.10/dist-packages (from pyspark) (0.10.9.7)\n",
            "Building wheels for collected packages: pyspark\n",
            "  Building wheel for pyspark (setup.py) ... \u001b[?25l\u001b[?25hdone\n",
            "  Created wheel for pyspark: filename=pyspark-3.5.1-py2.py3-none-any.whl size=317488491 sha256=eb8bd6c872d89961c2031846b9ee7573fa4d74a67139d40769a1f648dfc11544\n",
            "  Stored in directory: /root/.cache/pip/wheels/80/1d/60/2c256ed38dddce2fdd93be545214a63e02fbd8d74fb0b7f3a6\n",
            "Successfully built pyspark\n",
            "Installing collected packages: pyspark\n",
            "Successfully installed pyspark-3.5.1\n"
          ]
        }
      ]
    },
    {
      "cell_type": "code",
      "execution_count": null,
      "metadata": {
        "id": "b4SGFNhYb1Uh"
      },
      "outputs": [],
      "source": [
        "from pyspark.ml.regression import LinearRegression\n",
        "import pandas as pd\n",
        "from pyspark.ml.feature import VectorAssembler\n",
        "from pyspark.ml.stat import Correlation\n",
        "from pyspark.sql.functions import col\n",
        "from pyspark.ml.evaluation import RegressionEvaluator\n",
        "from pyspark.ml.regression import RandomForestRegressor\n",
        "from sklearn.neighbors import KNeighborsRegressor\n",
        "from sklearn.model_selection import train_test_split\n",
        "from sklearn.metrics import mean_squared_error, r2_score\n",
        "from sklearn.model_selection import GridSearchCV\n",
        "from pyspark.ml.tuning import ParamGridBuilder, CrossValidator"
      ]
    },
    {
      "cell_type": "code",
      "execution_count": null,
      "metadata": {
        "id": "-NpFXHscb1Ui"
      },
      "outputs": [],
      "source": [
        "from pyspark.sql import SparkSession\n",
        "spark = SparkSession.builder.appName(\"Read CSV\").getOrCreate()"
      ]
    },
    {
      "cell_type": "code",
      "execution_count": null,
      "metadata": {
        "id": "T6uLJK6Mb1Ui",
        "outputId": "de5dfc6a-0057-43ef-a545-29ab5555fe16",
        "colab": {
          "base_uri": "https://localhost:8080/"
        }
      },
      "outputs": [
        {
          "output_type": "stream",
          "name": "stdout",
          "text": [
            "+----------+------------+--------------+-------------+--------------+----------+--------------+\n",
            "|Fertilizer|Nitrogen (N)|Phosphorus (P)|Potassium (K)|Rain Fall (mm)|Temperatue|Yeild (Q/acre)|\n",
            "+----------+------------+--------------+-------------+--------------+----------+--------------+\n",
            "|        50|          59|            19|           15|           410|        37|           6.0|\n",
            "|        50|          60|            18|           15|           400|        39|           6.0|\n",
            "|        50|          60|            18|           15|           400|        40|           6.0|\n",
            "|        50|          60|            18|           15|           450|        37|           6.0|\n",
            "|        50|          65|            18|           19|           425|        37|           9.0|\n",
            "|        50|          65|            18|           19|           450|        37|           9.0|\n",
            "|        50|          65|            18|           19|           500|        37|           9.0|\n",
            "|        52|          62|            19|           16|           410|        40|           6.5|\n",
            "|        52|          64|            19|           15|           400|        38|           6.5|\n",
            "|        55|          60|            21|           16|           405|        36|           7.0|\n",
            "|        55|          61|            18|           16|           475|        39|           6.0|\n",
            "|        55|          61|            20|           18|           460|        38|           7.0|\n",
            "|        55|          65|            19|           15|           425|        36|           7.0|\n",
            "|        55|          65|            19|           17|           415|        38|           8.0|\n",
            "|        55|          65|            19|           17|           425|        38|           7.0|\n",
            "|        55|          65|            19|           17|           450|        38|           7.0|\n",
            "|        55|          65|            21|           16|           410|        36|           7.0|\n",
            "|        55|          68|            20|           16|           410|        38|           7.0|\n",
            "|        56|          67|            18|           15|           450|        40|           7.0|\n",
            "|        58|          61|            21|           18|           455|        37|           7.5|\n",
            "+----------+------------+--------------+-------------+--------------+----------+--------------+\n",
            "only showing top 20 rows\n",
            "\n"
          ]
        }
      ],
      "source": [
        "df = spark.read.options(delimiter=\",\").csv(\"data.csv\", header=True, inferSchema=True)\n",
        "df.show()"
      ]
    },
    {
      "cell_type": "code",
      "execution_count": null,
      "metadata": {
        "id": "dSIX08J9b1Uj"
      },
      "outputs": [],
      "source": [
        "selected_columns = ['Fertilizer', 'Nitrogen (N)', 'Phosphorus (P)', 'Potassium (K)', 'Rain Fall (mm)', 'Temperatue', 'Yeild (Q/acre)']\n",
        "df_selected = df.select(*selected_columns)\n",
        "assembler = VectorAssembler(inputCols=selected_columns, outputCol='features')\n",
        "df_assembled = assembler.transform(df_selected)\n"
      ]
    },
    {
      "cell_type": "code",
      "execution_count": null,
      "metadata": {
        "id": "JyL9pKNMb1Uj",
        "outputId": "1c98e62a-5927-45be-9a92-882ff07fbe90",
        "colab": {
          "base_uri": "https://localhost:8080/",
          "height": 321
        }
      },
      "outputs": [
        {
          "output_type": "execute_result",
          "data": {
            "text/plain": [
              "                Fertilizer  Nitrogen (N)  Phosphorus (P)  Potassium (K)  \\\n",
              "Fertilizer        1.000000      0.904937        0.816096       0.751365   \n",
              "Nitrogen (N)      0.904937      1.000000        0.779447       0.800065   \n",
              "Phosphorus (P)    0.816096      0.779447        1.000000       0.747676   \n",
              "Potassium (K)     0.751365      0.800065        0.747676       1.000000   \n",
              "Rain Fall (mm)    0.885400      0.871885        0.772468       0.804093   \n",
              "Temperatue       -0.863135     -0.848320       -0.776384      -0.775561   \n",
              "Yeild (Q/acre)    0.824444      0.872730        0.792070       0.851340   \n",
              "\n",
              "                Rain Fall (mm)  Temperatue  Yeild (Q/acre)  \n",
              "Fertilizer            0.885400   -0.863135        0.824444  \n",
              "Nitrogen (N)          0.871885   -0.848320        0.872730  \n",
              "Phosphorus (P)        0.772468   -0.776384        0.792070  \n",
              "Potassium (K)         0.804093   -0.775561        0.851340  \n",
              "Rain Fall (mm)        1.000000   -0.967736        0.882383  \n",
              "Temperatue           -0.967736    1.000000       -0.893005  \n",
              "Yeild (Q/acre)        0.882383   -0.893005        1.000000  "
            ],
            "text/html": [
              "\n",
              "  <div id=\"df-bd84bacd-165d-4a9e-a2c0-1f6056707ccb\" class=\"colab-df-container\">\n",
              "    <div>\n",
              "<style scoped>\n",
              "    .dataframe tbody tr th:only-of-type {\n",
              "        vertical-align: middle;\n",
              "    }\n",
              "\n",
              "    .dataframe tbody tr th {\n",
              "        vertical-align: top;\n",
              "    }\n",
              "\n",
              "    .dataframe thead th {\n",
              "        text-align: right;\n",
              "    }\n",
              "</style>\n",
              "<table border=\"1\" class=\"dataframe\">\n",
              "  <thead>\n",
              "    <tr style=\"text-align: right;\">\n",
              "      <th></th>\n",
              "      <th>Fertilizer</th>\n",
              "      <th>Nitrogen (N)</th>\n",
              "      <th>Phosphorus (P)</th>\n",
              "      <th>Potassium (K)</th>\n",
              "      <th>Rain Fall (mm)</th>\n",
              "      <th>Temperatue</th>\n",
              "      <th>Yeild (Q/acre)</th>\n",
              "    </tr>\n",
              "  </thead>\n",
              "  <tbody>\n",
              "    <tr>\n",
              "      <th>Fertilizer</th>\n",
              "      <td>1.000000</td>\n",
              "      <td>0.904937</td>\n",
              "      <td>0.816096</td>\n",
              "      <td>0.751365</td>\n",
              "      <td>0.885400</td>\n",
              "      <td>-0.863135</td>\n",
              "      <td>0.824444</td>\n",
              "    </tr>\n",
              "    <tr>\n",
              "      <th>Nitrogen (N)</th>\n",
              "      <td>0.904937</td>\n",
              "      <td>1.000000</td>\n",
              "      <td>0.779447</td>\n",
              "      <td>0.800065</td>\n",
              "      <td>0.871885</td>\n",
              "      <td>-0.848320</td>\n",
              "      <td>0.872730</td>\n",
              "    </tr>\n",
              "    <tr>\n",
              "      <th>Phosphorus (P)</th>\n",
              "      <td>0.816096</td>\n",
              "      <td>0.779447</td>\n",
              "      <td>1.000000</td>\n",
              "      <td>0.747676</td>\n",
              "      <td>0.772468</td>\n",
              "      <td>-0.776384</td>\n",
              "      <td>0.792070</td>\n",
              "    </tr>\n",
              "    <tr>\n",
              "      <th>Potassium (K)</th>\n",
              "      <td>0.751365</td>\n",
              "      <td>0.800065</td>\n",
              "      <td>0.747676</td>\n",
              "      <td>1.000000</td>\n",
              "      <td>0.804093</td>\n",
              "      <td>-0.775561</td>\n",
              "      <td>0.851340</td>\n",
              "    </tr>\n",
              "    <tr>\n",
              "      <th>Rain Fall (mm)</th>\n",
              "      <td>0.885400</td>\n",
              "      <td>0.871885</td>\n",
              "      <td>0.772468</td>\n",
              "      <td>0.804093</td>\n",
              "      <td>1.000000</td>\n",
              "      <td>-0.967736</td>\n",
              "      <td>0.882383</td>\n",
              "    </tr>\n",
              "    <tr>\n",
              "      <th>Temperatue</th>\n",
              "      <td>-0.863135</td>\n",
              "      <td>-0.848320</td>\n",
              "      <td>-0.776384</td>\n",
              "      <td>-0.775561</td>\n",
              "      <td>-0.967736</td>\n",
              "      <td>1.000000</td>\n",
              "      <td>-0.893005</td>\n",
              "    </tr>\n",
              "    <tr>\n",
              "      <th>Yeild (Q/acre)</th>\n",
              "      <td>0.824444</td>\n",
              "      <td>0.872730</td>\n",
              "      <td>0.792070</td>\n",
              "      <td>0.851340</td>\n",
              "      <td>0.882383</td>\n",
              "      <td>-0.893005</td>\n",
              "      <td>1.000000</td>\n",
              "    </tr>\n",
              "  </tbody>\n",
              "</table>\n",
              "</div>\n",
              "    <div class=\"colab-df-buttons\">\n",
              "\n",
              "  <div class=\"colab-df-container\">\n",
              "    <button class=\"colab-df-convert\" onclick=\"convertToInteractive('df-bd84bacd-165d-4a9e-a2c0-1f6056707ccb')\"\n",
              "            title=\"Convert this dataframe to an interactive table.\"\n",
              "            style=\"display:none;\">\n",
              "\n",
              "  <svg xmlns=\"http://www.w3.org/2000/svg\" height=\"24px\" viewBox=\"0 -960 960 960\">\n",
              "    <path d=\"M120-120v-720h720v720H120Zm60-500h600v-160H180v160Zm220 220h160v-160H400v160Zm0 220h160v-160H400v160ZM180-400h160v-160H180v160Zm440 0h160v-160H620v160ZM180-180h160v-160H180v160Zm440 0h160v-160H620v160Z\"/>\n",
              "  </svg>\n",
              "    </button>\n",
              "\n",
              "  <style>\n",
              "    .colab-df-container {\n",
              "      display:flex;\n",
              "      gap: 12px;\n",
              "    }\n",
              "\n",
              "    .colab-df-convert {\n",
              "      background-color: #E8F0FE;\n",
              "      border: none;\n",
              "      border-radius: 50%;\n",
              "      cursor: pointer;\n",
              "      display: none;\n",
              "      fill: #1967D2;\n",
              "      height: 32px;\n",
              "      padding: 0 0 0 0;\n",
              "      width: 32px;\n",
              "    }\n",
              "\n",
              "    .colab-df-convert:hover {\n",
              "      background-color: #E2EBFA;\n",
              "      box-shadow: 0px 1px 2px rgba(60, 64, 67, 0.3), 0px 1px 3px 1px rgba(60, 64, 67, 0.15);\n",
              "      fill: #174EA6;\n",
              "    }\n",
              "\n",
              "    .colab-df-buttons div {\n",
              "      margin-bottom: 4px;\n",
              "    }\n",
              "\n",
              "    [theme=dark] .colab-df-convert {\n",
              "      background-color: #3B4455;\n",
              "      fill: #D2E3FC;\n",
              "    }\n",
              "\n",
              "    [theme=dark] .colab-df-convert:hover {\n",
              "      background-color: #434B5C;\n",
              "      box-shadow: 0px 1px 3px 1px rgba(0, 0, 0, 0.15);\n",
              "      filter: drop-shadow(0px 1px 2px rgba(0, 0, 0, 0.3));\n",
              "      fill: #FFFFFF;\n",
              "    }\n",
              "  </style>\n",
              "\n",
              "    <script>\n",
              "      const buttonEl =\n",
              "        document.querySelector('#df-bd84bacd-165d-4a9e-a2c0-1f6056707ccb button.colab-df-convert');\n",
              "      buttonEl.style.display =\n",
              "        google.colab.kernel.accessAllowed ? 'block' : 'none';\n",
              "\n",
              "      async function convertToInteractive(key) {\n",
              "        const element = document.querySelector('#df-bd84bacd-165d-4a9e-a2c0-1f6056707ccb');\n",
              "        const dataTable =\n",
              "          await google.colab.kernel.invokeFunction('convertToInteractive',\n",
              "                                                    [key], {});\n",
              "        if (!dataTable) return;\n",
              "\n",
              "        const docLinkHtml = 'Like what you see? Visit the ' +\n",
              "          '<a target=\"_blank\" href=https://colab.research.google.com/notebooks/data_table.ipynb>data table notebook</a>'\n",
              "          + ' to learn more about interactive tables.';\n",
              "        element.innerHTML = '';\n",
              "        dataTable['output_type'] = 'display_data';\n",
              "        await google.colab.output.renderOutput(dataTable, element);\n",
              "        const docLink = document.createElement('div');\n",
              "        docLink.innerHTML = docLinkHtml;\n",
              "        element.appendChild(docLink);\n",
              "      }\n",
              "    </script>\n",
              "  </div>\n",
              "\n",
              "\n",
              "<div id=\"df-39953f2c-8057-4028-bcf1-bfa5d53dbeda\">\n",
              "  <button class=\"colab-df-quickchart\" onclick=\"quickchart('df-39953f2c-8057-4028-bcf1-bfa5d53dbeda')\"\n",
              "            title=\"Suggest charts\"\n",
              "            style=\"display:none;\">\n",
              "\n",
              "<svg xmlns=\"http://www.w3.org/2000/svg\" height=\"24px\"viewBox=\"0 0 24 24\"\n",
              "     width=\"24px\">\n",
              "    <g>\n",
              "        <path d=\"M19 3H5c-1.1 0-2 .9-2 2v14c0 1.1.9 2 2 2h14c1.1 0 2-.9 2-2V5c0-1.1-.9-2-2-2zM9 17H7v-7h2v7zm4 0h-2V7h2v10zm4 0h-2v-4h2v4z\"/>\n",
              "    </g>\n",
              "</svg>\n",
              "  </button>\n",
              "\n",
              "<style>\n",
              "  .colab-df-quickchart {\n",
              "      --bg-color: #E8F0FE;\n",
              "      --fill-color: #1967D2;\n",
              "      --hover-bg-color: #E2EBFA;\n",
              "      --hover-fill-color: #174EA6;\n",
              "      --disabled-fill-color: #AAA;\n",
              "      --disabled-bg-color: #DDD;\n",
              "  }\n",
              "\n",
              "  [theme=dark] .colab-df-quickchart {\n",
              "      --bg-color: #3B4455;\n",
              "      --fill-color: #D2E3FC;\n",
              "      --hover-bg-color: #434B5C;\n",
              "      --hover-fill-color: #FFFFFF;\n",
              "      --disabled-bg-color: #3B4455;\n",
              "      --disabled-fill-color: #666;\n",
              "  }\n",
              "\n",
              "  .colab-df-quickchart {\n",
              "    background-color: var(--bg-color);\n",
              "    border: none;\n",
              "    border-radius: 50%;\n",
              "    cursor: pointer;\n",
              "    display: none;\n",
              "    fill: var(--fill-color);\n",
              "    height: 32px;\n",
              "    padding: 0;\n",
              "    width: 32px;\n",
              "  }\n",
              "\n",
              "  .colab-df-quickchart:hover {\n",
              "    background-color: var(--hover-bg-color);\n",
              "    box-shadow: 0 1px 2px rgba(60, 64, 67, 0.3), 0 1px 3px 1px rgba(60, 64, 67, 0.15);\n",
              "    fill: var(--button-hover-fill-color);\n",
              "  }\n",
              "\n",
              "  .colab-df-quickchart-complete:disabled,\n",
              "  .colab-df-quickchart-complete:disabled:hover {\n",
              "    background-color: var(--disabled-bg-color);\n",
              "    fill: var(--disabled-fill-color);\n",
              "    box-shadow: none;\n",
              "  }\n",
              "\n",
              "  .colab-df-spinner {\n",
              "    border: 2px solid var(--fill-color);\n",
              "    border-color: transparent;\n",
              "    border-bottom-color: var(--fill-color);\n",
              "    animation:\n",
              "      spin 1s steps(1) infinite;\n",
              "  }\n",
              "\n",
              "  @keyframes spin {\n",
              "    0% {\n",
              "      border-color: transparent;\n",
              "      border-bottom-color: var(--fill-color);\n",
              "      border-left-color: var(--fill-color);\n",
              "    }\n",
              "    20% {\n",
              "      border-color: transparent;\n",
              "      border-left-color: var(--fill-color);\n",
              "      border-top-color: var(--fill-color);\n",
              "    }\n",
              "    30% {\n",
              "      border-color: transparent;\n",
              "      border-left-color: var(--fill-color);\n",
              "      border-top-color: var(--fill-color);\n",
              "      border-right-color: var(--fill-color);\n",
              "    }\n",
              "    40% {\n",
              "      border-color: transparent;\n",
              "      border-right-color: var(--fill-color);\n",
              "      border-top-color: var(--fill-color);\n",
              "    }\n",
              "    60% {\n",
              "      border-color: transparent;\n",
              "      border-right-color: var(--fill-color);\n",
              "    }\n",
              "    80% {\n",
              "      border-color: transparent;\n",
              "      border-right-color: var(--fill-color);\n",
              "      border-bottom-color: var(--fill-color);\n",
              "    }\n",
              "    90% {\n",
              "      border-color: transparent;\n",
              "      border-bottom-color: var(--fill-color);\n",
              "    }\n",
              "  }\n",
              "</style>\n",
              "\n",
              "  <script>\n",
              "    async function quickchart(key) {\n",
              "      const quickchartButtonEl =\n",
              "        document.querySelector('#' + key + ' button');\n",
              "      quickchartButtonEl.disabled = true;  // To prevent multiple clicks.\n",
              "      quickchartButtonEl.classList.add('colab-df-spinner');\n",
              "      try {\n",
              "        const charts = await google.colab.kernel.invokeFunction(\n",
              "            'suggestCharts', [key], {});\n",
              "      } catch (error) {\n",
              "        console.error('Error during call to suggestCharts:', error);\n",
              "      }\n",
              "      quickchartButtonEl.classList.remove('colab-df-spinner');\n",
              "      quickchartButtonEl.classList.add('colab-df-quickchart-complete');\n",
              "    }\n",
              "    (() => {\n",
              "      let quickchartButtonEl =\n",
              "        document.querySelector('#df-39953f2c-8057-4028-bcf1-bfa5d53dbeda button');\n",
              "      quickchartButtonEl.style.display =\n",
              "        google.colab.kernel.accessAllowed ? 'block' : 'none';\n",
              "    })();\n",
              "  </script>\n",
              "</div>\n",
              "    </div>\n",
              "  </div>\n"
            ],
            "application/vnd.google.colaboratory.intrinsic+json": {
              "type": "dataframe",
              "variable_name": "correlation_matrix_df",
              "summary": "{\n  \"name\": \"correlation_matrix_df\",\n  \"rows\": 7,\n  \"fields\": [\n    {\n      \"column\": \"Fertilizer\",\n      \"properties\": {\n        \"dtype\": \"number\",\n        \"std\": 0.6574141268566606,\n        \"min\": -0.8631346156130718,\n        \"max\": 1.0,\n        \"num_unique_values\": 7,\n        \"samples\": [\n          1.0,\n          0.9049366161117416,\n          -0.8631346156130718\n        ],\n        \"semantic_type\": \"\",\n        \"description\": \"\"\n      }\n    },\n    {\n      \"column\": \"Nitrogen (N)\",\n      \"properties\": {\n        \"dtype\": \"number\",\n        \"std\": 0.6540234457357391,\n        \"min\": -0.8483196944801314,\n        \"max\": 1.0,\n        \"num_unique_values\": 7,\n        \"samples\": [\n          0.9049366161117416,\n          1.0,\n          -0.8483196944801314\n        ],\n        \"semantic_type\": \"\",\n        \"description\": \"\"\n      }\n    },\n    {\n      \"column\": \"Phosphorus (P)\",\n      \"properties\": {\n        \"dtype\": \"number\",\n        \"std\": 0.6084272574509958,\n        \"min\": -0.7763836205249887,\n        \"max\": 1.0,\n        \"num_unique_values\": 7,\n        \"samples\": [\n          0.8160963875370533,\n          0.7794469953707702,\n          -0.7763836205249887\n        ],\n        \"semantic_type\": \"\",\n        \"description\": \"\"\n      }\n    },\n    {\n      \"column\": \"Potassium (K)\",\n      \"properties\": {\n        \"dtype\": \"number\",\n        \"std\": 0.6112385986596356,\n        \"min\": -0.7755608293927145,\n        \"max\": 1.0,\n        \"num_unique_values\": 7,\n        \"samples\": [\n          0.751365465426833,\n          0.8000654928457326,\n          -0.7755608293927145\n        ],\n        \"semantic_type\": \"\",\n        \"description\": \"\"\n      }\n    },\n    {\n      \"column\": \"Rain Fall (mm)\",\n      \"properties\": {\n        \"dtype\": \"number\",\n        \"std\": 0.698089494122175,\n        \"min\": -0.9677358565242226,\n        \"max\": 1.0,\n        \"num_unique_values\": 7,\n        \"samples\": [\n          0.8853996732077205,\n          0.8718853264709927,\n          -0.9677358565242226\n        ],\n        \"semantic_type\": \"\",\n        \"description\": \"\"\n      }\n    },\n    {\n      \"column\": \"Temperatue\",\n      \"properties\": {\n        \"dtype\": \"number\",\n        \"std\": 0.7039287996668474,\n        \"min\": -0.9677358565242226,\n        \"max\": 1.0,\n        \"num_unique_values\": 7,\n        \"samples\": [\n          -0.8631346156130718,\n          -0.8483196944801314,\n          1.0\n        ],\n        \"semantic_type\": \"\",\n        \"description\": \"\"\n      }\n    },\n    {\n      \"column\": \"Yeild (Q/acre)\",\n      \"properties\": {\n        \"dtype\": \"number\",\n        \"std\": 0.6697274877149264,\n        \"min\": -0.8930046227731198,\n        \"max\": 1.0,\n        \"num_unique_values\": 7,\n        \"samples\": [\n          0.8244444435697871,\n          0.8727299399149342,\n          -0.8930046227731198\n        ],\n        \"semantic_type\": \"\",\n        \"description\": \"\"\n      }\n    }\n  ]\n}"
            }
          },
          "metadata": {},
          "execution_count": 8
        }
      ],
      "source": [
        "correlation_matrix = Correlation.corr(df_assembled, 'features').collect()[0][0]\n",
        "correlation_matrix_df = pd.DataFrame(correlation_matrix.toArray(), columns=selected_columns, index=selected_columns)\n",
        "correlation_matrix_df"
      ]
    },
    {
      "cell_type": "markdown",
      "metadata": {
        "id": "Rh8UURwQb1Uk"
      },
      "source": [
        "LinearRegression"
      ]
    },
    {
      "cell_type": "code",
      "execution_count": null,
      "metadata": {
        "id": "5PKjXINmb1Ul"
      },
      "outputs": [],
      "source": [
        "label_column = 'Yeild (Q/acre)'\n",
        "\n",
        "lr = LinearRegression(featuresCol='features', labelCol=label_column, maxIter=10, regParam=0.3, elasticNetParam=0.8)\n",
        "param_grid = (ParamGridBuilder()\n",
        "              .addGrid(lr.regParam, [0.01, 0.1, 0.5])\n",
        "              .addGrid(lr.elasticNetParam, [0.0, 0.5, 1.0])\n",
        "              .build())\n",
        "\n",
        "\n",
        "evaluator = RegressionEvaluator(labelCol=label_column, predictionCol='prediction', metricName='rmse')\n",
        "\n",
        "cross_validator = CrossValidator(estimator=lr,\n",
        "                                 estimatorParamMaps=param_grid,\n",
        "                                 evaluator=evaluator,\n",
        "                                 numFolds=5,\n",
        "                                 seed=42)\n",
        "cv_model = cross_validator.fit(df_assembled)\n",
        "\n",
        "best_lr_model = cv_model.bestModel\n",
        "\n",
        "predictions = best_lr_model.transform(df_assembled)\n",
        "\n",
        "rmse = evaluator.evaluate(predictions)\n",
        "r2_linear = evaluator.evaluate(predictions, {evaluator.metricName: 'r2'})\n"
      ]
    },
    {
      "cell_type": "code",
      "execution_count": null,
      "metadata": {
        "id": "A1kOUZXGb1Ul",
        "outputId": "481f2f15-5dbc-4901-b8b8-fcf4bbc12ad6",
        "colab": {
          "base_uri": "https://localhost:8080/"
        }
      },
      "outputs": [
        {
          "output_type": "stream",
          "name": "stdout",
          "text": [
            "Best Model Parameters: regParam=0.01, elasticNetParam=0.0\n",
            "RMSE: 0.027\n",
            "R2: 1.000\n"
          ]
        }
      ],
      "source": [
        "\n",
        "print(\"Best Model Parameters: regParam={}, elasticNetParam={}\".format(best_lr_model.getRegParam(), best_lr_model.getElasticNetParam()))\n",
        "print(\"RMSE: %.3f\" % rmse)\n",
        "print(\"R2: %.3f\" % r2_linear)"
      ]
    },
    {
      "cell_type": "markdown",
      "metadata": {
        "id": "LQEVRVaHb1Um"
      },
      "source": [
        "RandomForestRegressor"
      ]
    },
    {
      "cell_type": "code",
      "execution_count": null,
      "metadata": {
        "id": "nES5cR_Sb1Um"
      },
      "outputs": [],
      "source": [
        "rf = RandomForestRegressor(featuresCol='features', labelCol=label_column, numTrees=100, maxDepth=5, seed=42)\n",
        "\n",
        "rfModel = rf.fit(df_assembled)\n",
        "\n",
        "param_grid = (ParamGridBuilder()\n",
        "              .addGrid(rf.numTrees, [50, 100, 150])\n",
        "              .addGrid(rf.maxDepth, [5, 10, 15])\n",
        "              .build())\n",
        "\n",
        "evaluator = RegressionEvaluator(labelCol=label_column, predictionCol='prediction', metricName='rmse')\n",
        "\n",
        "cross_validator = CrossValidator(estimator=rf,\n",
        "                                 estimatorParamMaps=param_grid,\n",
        "                                 evaluator=evaluator,\n",
        "                                 numFolds=5,\n",
        "                                 seed=42)\n",
        "\n",
        "cv_model = cross_validator.fit(df_assembled)\n",
        "\n",
        "best_rf_model = cv_model.bestModel\n",
        "\n",
        "predictions = best_rf_model.transform(df_assembled)\n",
        "\n",
        "rmse = evaluator.evaluate(predictions)\n",
        "r2_RF = evaluator.evaluate(predictions, {evaluator.metricName: 'r2'})\n"
      ]
    },
    {
      "cell_type": "code",
      "execution_count": null,
      "metadata": {
        "id": "sIVNF9zXb1Um",
        "outputId": "35f2c03a-2128-4cfb-acb8-7f314ca632a6",
        "colab": {
          "base_uri": "https://localhost:8080/"
        }
      },
      "outputs": [
        {
          "output_type": "stream",
          "name": "stdout",
          "text": [
            "Best Model Parameters: numTrees=50, maxDepth=<bound method _DecisionTreeParams.getMaxDepth of RandomForestRegressionModel: uid=RandomForestRegressor_aa9fa2a4fcb0, numTrees=50, numFeatures=7>\n",
            "RMSE: 0.094\n",
            "R2: 0.998\n"
          ]
        }
      ],
      "source": [
        "print(\"Best Model Parameters: numTrees={}, maxDepth={}\".format(best_rf_model.getNumTrees, best_rf_model.getMaxDepth))\n",
        "print(\"RMSE: %.3f\" % rmse)\n",
        "print(\"R2: %.3f\" % r2_RF)"
      ]
    },
    {
      "cell_type": "markdown",
      "metadata": {
        "id": "PGIUwnxpb1Um"
      },
      "source": [
        "KNeighborsRegressor"
      ]
    },
    {
      "cell_type": "code",
      "execution_count": null,
      "metadata": {
        "id": "22_L9zNxb1Um",
        "outputId": "bf6b1ebb-22f0-438a-8516-32ae512e52f3",
        "colab": {
          "base_uri": "https://localhost:8080/"
        }
      },
      "outputs": [
        {
          "output_type": "stream",
          "name": "stdout",
          "text": [
            "Mean Squared Error (MSE): 0.842\n",
            "R-squared (R2): 0.746\n"
          ]
        }
      ],
      "source": [
        "pandas_df = df_selected.toPandas()\n",
        "\n",
        "X = pandas_df.drop(columns=[label_column])\n",
        "y = pandas_df[label_column]\n",
        "\n",
        "X_train, X_test, y_train, y_test = train_test_split(X, y, test_size=0.2, random_state=42)\n",
        "\n",
        "knn_regressor = KNeighborsRegressor(n_neighbors=5)\n",
        "\n",
        "knn_regressor.fit(X_train, y_train)\n",
        "y_pred = knn_regressor.predict(X_test)\n",
        "\n",
        "\n",
        "mse = mean_squared_error(y_test, y_pred)\n",
        "r2_KNR = r2_score(y_test, y_pred)\n",
        "\n",
        "print(\"Mean Squared Error (MSE): %.3f\" % mse)\n",
        "print(\"R-squared (R2): %.3f\" % r2_KNR)"
      ]
    },
    {
      "cell_type": "code",
      "execution_count": null,
      "metadata": {
        "id": "5SDUXn1jb1Un",
        "outputId": "07fd59e9-1548-4042-f864-193e9dca75f5",
        "colab": {
          "base_uri": "https://localhost:8080/"
        }
      },
      "outputs": [
        {
          "output_type": "stream",
          "name": "stdout",
          "text": [
            "Best Parameters: {'n_neighbors': 3, 'p': 1, 'weights': 'uniform'}\n",
            "Best Estimator: KNeighborsRegressor(n_neighbors=3, p=1)\n"
          ]
        }
      ],
      "source": [
        "param_grid = {\n",
        "    'n_neighbors': [3, 5, 7, 9],\n",
        "    'weights': ['uniform', 'distance'],\n",
        "    'p': [1, 2]\n",
        "}\n",
        "\n",
        "knn_regressor = KNeighborsRegressor()\n",
        "\n",
        "grid_search = GridSearchCV(estimator=knn_regressor, param_grid=param_grid, scoring='neg_mean_squared_error', cv=5)\n",
        "\n",
        "grid_search.fit(X_train, y_train)\n",
        "\n",
        "best_params = grid_search.best_params_\n",
        "best_estimator = grid_search.best_estimator_\n",
        "\n",
        "print(\"Best Parameters:\", best_params)\n",
        "print(\"Best Estimator:\", best_estimator)"
      ]
    },
    {
      "cell_type": "code",
      "source": [
        "print(\"LinearRegression\")\n",
        "print(\"RMSE: %.3f\" % rmse)\n",
        "print(\"R2: %.3f\" % r2_linear)\n",
        "\n",
        "print(\"-----------------------------------\")\n",
        "print(\"RandomForestRegressor\")\n",
        "print(\"RMSE: %.3f\" % rmse)\n",
        "print(\"R2: %.3f\" % r2_RF)\n",
        "\n",
        "print(\"-----------------------------------\")\n",
        "print(\"KNeighborsRegressor\")\n",
        "print(\"Mean Squared Error (MSE): %.3f\" % mse)\n",
        "print(\"R-squared (R2): %.3f\" % r2_KNR)\n"
      ],
      "metadata": {
        "colab": {
          "base_uri": "https://localhost:8080/"
        },
        "id": "jUVlSMwl_Fm-",
        "outputId": "96b970e2-08c9-4efc-9127-a7d57d2d8796"
      },
      "execution_count": null,
      "outputs": [
        {
          "output_type": "stream",
          "name": "stdout",
          "text": [
            "LinearRegression\n",
            "RMSE: 0.094\n",
            "R2: 1.000\n",
            "-----------------------------------\n",
            "RandomForestRegressor\n",
            "RMSE: 0.094\n",
            "R2: 0.998\n",
            "-----------------------------------\n",
            "KNeighborsRegressor\n",
            "Mean Squared Error (MSE): 0.842\n",
            "R-squared (R2): 0.746\n"
          ]
        }
      ]
    }
  ],
  "metadata": {
    "kernelspec": {
      "display_name": "Python 3",
      "language": "python",
      "name": "python3"
    },
    "language_info": {
      "codemirror_mode": {
        "name": "ipython",
        "version": 3
      },
      "file_extension": ".py",
      "mimetype": "text/x-python",
      "name": "python",
      "nbconvert_exporter": "python",
      "pygments_lexer": "ipython3",
      "version": "3.11.8"
    },
    "colab": {
      "provenance": [],
      "include_colab_link": true
    }
  },
  "nbformat": 4,
  "nbformat_minor": 0
}